{
  "nbformat": 4,
  "nbformat_minor": 0,
  "metadata": {
    "colab": {
      "provenance": [],
      "authorship_tag": "ABX9TyOx/3K9zuIgY5TXAfWYixVa",
      "include_colab_link": true
    },
    "kernelspec": {
      "name": "python3",
      "display_name": "Python 3"
    },
    "language_info": {
      "name": "python"
    }
  },
  "cells": [
    {
      "cell_type": "markdown",
      "metadata": {
        "id": "view-in-github",
        "colab_type": "text"
      },
      "source": [
        "<a href=\"https://colab.research.google.com/github/praveen132004/praveen132004/blob/main/gen_ai2.ipynb\" target=\"_parent\"><img src=\"https://colab.research.google.com/assets/colab-badge.svg\" alt=\"Open In Colab\"/></a>"
      ]
    },
    {
      "cell_type": "code",
      "execution_count": null,
      "metadata": {
        "id": "XpH0npt5yoYx"
      },
      "outputs": [],
      "source": [
        "from transformers import pipeline\n",
        "sentiment_analyzer = pipeline(\"sentiment-analysis\")\n",
        "text = \"I am feeling happy\"\n",
        "sentiment_result = sentiment_analyzer(text)\n",
        "print(\"Sentiment analysis:\")\n",
        "print(f\"Sentiment: {sentiment_result[0]['label']} (score: {sentiment_result[0]['score']:.2f})\\n\")"
      ]
    },
    {
      "cell_type": "code",
      "source": [
        "from transformers import pipeline\n",
        "translator_en_to_fr = pipeline(\"translation_en_to_fr\", model=\"Helsinki-NLP/opus-mt-en-fr\")\n",
        "text = \"I am feeling happy\"\n",
        "translation_result = translator_en_to_fr(text)\n",
        "print(\"Translation:\")\n",
        "print(f\"Translated text: {translation_result[0]['translation_text']}\\n\")\n",
        "print(f\"Translated text: {translation_result[0]['translation_text']}\\n\")"
      ],
      "metadata": {
        "id": "d-ZsFUe_ypUg"
      },
      "execution_count": null,
      "outputs": []
    },
    {
      "cell_type": "code",
      "source": [
        "!pip install pytesseract"
      ],
      "metadata": {
        "id": "M2h3s4YRypXU"
      },
      "execution_count": null,
      "outputs": []
    },
    {
      "cell_type": "code",
      "source": [
        "import pytesseract\n",
        "from PIL import Image\n",
        "from transformers import pipeline"
      ],
      "metadata": {
        "id": "mF12_773ypaO"
      },
      "execution_count": null,
      "outputs": []
    },
    {
      "cell_type": "code",
      "source": [
        "import os\n",
        "print(os.path.isfile('/content/hari.jpg'))"
      ],
      "metadata": {
        "id": "y85QyCN3ypcS"
      },
      "execution_count": null,
      "outputs": []
    },
    {
      "cell_type": "code",
      "source": [
        "from PIL import Image\n",
        "from IPython.display import display\n",
        "\n",
        "# Define input_image by opening the image file\n",
        "input_image = Image.open('/content/hari.jpg')\n",
        "\n",
        "# Now you can show and display the image without error\n",
        "input_image.show()\n",
        "display(input_image)"
      ],
      "metadata": {
        "id": "1rYBQTP3ypei"
      },
      "execution_count": null,
      "outputs": []
    },
    {
      "cell_type": "code",
      "source": [
        "import pytesseract\n",
        "from PIL import Image\n",
        "import re\n",
        "\n",
        "input_image = Image.open('/content/hari.jpg')\n",
        "\n",
        "text_output = pytesseract.image_to_string(input_image, lang='eng').strip()\n",
        "\n",
        "text_output = re.sub(r\"\\s+,\", \",\", text_output)\n",
        "\n",
        "print(text_output)"
      ],
      "metadata": {
        "id": "_1mg6AGZypg1"
      },
      "execution_count": null,
      "outputs": []
    },
    {
      "cell_type": "code",
      "source": [
        "image = Image.open('/content/hari.jpg')\n",
        "extracted_text = pytesseract.image_to_string(image).strip()\n",
        "\n",
        "if not extracted_text:\n",
        "    print(\"No text found in the image.\")\n",
        "else:\n",
        "    print(f\"Extracted Text: {extracted_text}\")\n",
        "    sentiment_analyzer = pipeline(\"sentiment-analysis\")\n",
        "    sentiment_result = sentiment_analyzer(extracted_text)[0]\n",
        "    #print(\"Sentiment analysis:\")\n",
        "    #print(f\"Text: {extracted_text}\")\n",
        "    print(f\"Sentiment: {sentiment_result['label']} (score: {sentiment_result['score']:.2f})\")"
      ],
      "metadata": {
        "id": "yxO9EGm7ypjD"
      },
      "execution_count": null,
      "outputs": []
    },
    {
      "cell_type": "code",
      "source": [],
      "metadata": {
        "id": "uWqkpYw-ypk7"
      },
      "execution_count": null,
      "outputs": []
    },
    {
      "cell_type": "code",
      "source": [],
      "metadata": {
        "id": "8L4HkNldypnX"
      },
      "execution_count": null,
      "outputs": []
    },
    {
      "cell_type": "code",
      "source": [],
      "metadata": {
        "id": "nQcMLaM9yppU"
      },
      "execution_count": null,
      "outputs": []
    }
  ]
}